{
 "cells": [
  {
   "cell_type": "code",
   "execution_count": 29,
   "metadata": {},
   "outputs": [],
   "source": [
    "import random\n",
    "import numpy as np\n",
    "import pandas as pd\n",
    "import matplotlib.pyplot as plt\n",
    "from annoy import AnnoyIndex\n",
    "import ipywidgets as ipw\n",
    "%matplotlib inline"
   ]
  },
  {
   "cell_type": "markdown",
   "metadata": {},
   "source": [
    "## Load Embeddings"
   ]
  },
  {
   "cell_type": "code",
   "execution_count": 14,
   "metadata": {},
   "outputs": [
    {
     "name": "stdout",
     "output_type": "stream",
     "text": [
      "Embedding dimensions (36073, 50)\n",
      "Number of food names 36073\n"
     ]
    }
   ],
   "source": [
    "food_embds = np.load('data/food_embds_50d.npy')\n",
    "food_names = [x[:-5] for x in np.load('data/food_names_50d.npy',allow_pickle=True)]\n",
    "print('Embedding dimensions', food_embds.shape)\n",
    "print('Number of food names',len(food_names)+1)"
   ]
  },
  {
   "cell_type": "markdown",
   "metadata": {},
   "source": [
    "## Set up Annoy Index for food embeddings"
   ]
  },
  {
   "cell_type": "code",
   "execution_count": 15,
   "metadata": {},
   "outputs": [
    {
     "data": {
      "text/plain": [
       "True"
      ]
     },
     "execution_count": 15,
     "metadata": {},
     "output_type": "execute_result"
    }
   ],
   "source": [
    "dims = food_embds.shape[1]\n",
    "t = AnnoyIndex(dims,metric='angular')  # Length of item vector that will be indexed\n",
    "for i,row in enumerate(food_embds):\n",
    "    t.add_item(i, row)\n",
    "t.build(10) # 10 trees\n",
    "t.save('data/foods_50d.ann')"
   ]
  },
  {
   "cell_type": "code",
   "execution_count": 22,
   "metadata": {},
   "outputs": [],
   "source": [
    "# Load NN index"
   ]
  },
  {
   "cell_type": "code",
   "execution_count": 16,
   "metadata": {},
   "outputs": [
    {
     "data": {
      "text/plain": [
       "True"
      ]
     },
     "execution_count": 16,
     "metadata": {},
     "output_type": "execute_result"
    }
   ],
   "source": [
    "dims = food_embds.shape[1]\n",
    "u = AnnoyIndex(dims, 'angular')\n",
    "u.load('data/foods_50d.ann') # super fast, will just mmap the file"
   ]
  },
  {
   "cell_type": "markdown",
   "metadata": {},
   "source": [
    "# Try out similarity search\n",
    "The list `food_names` contains all foods that are contained in the nearest neighbor index."
   ]
  },
  {
   "cell_type": "code",
   "execution_count": 26,
   "metadata": {},
   "outputs": [
    {
     "data": {
      "text/plain": [
       "'Cucumber, peeled, raw'"
      ]
     },
     "execution_count": 26,
     "metadata": {},
     "output_type": "execute_result"
    }
   ],
   "source": [
    "item = 100\n",
    "food_names[item]"
   ]
  },
  {
   "cell_type": "markdown",
   "metadata": {},
   "source": [
    "## Pick item between 0 and 36072"
   ]
  },
  {
   "cell_type": "code",
   "execution_count": 32,
   "metadata": {},
   "outputs": [
    {
     "name": "stdout",
     "output_type": "stream",
     "text": [
      "People who consume `Cucumber, peeled, raw` frequently, also consume:\n",
      "\n",
      "Beef summer sausage\n",
      "Keto Tuna Casserole\n",
      "Peanut Butter, Smooth\n",
      "Sugar Free Chocolate Candy, Pecan Delight\n",
      "Chocolateketo Frozen Custard\n",
      "Low Carb Cream Cheese Pancakes\n",
      "Almond Nut-Thins, Pepper Jack Cheese\n",
      "A-1 Steak Sauce\n",
      "Tortillas, Corn\n",
      "Snap beans, green, cooked, without salt\n",
      "Cheese Dip, Mild Cheddar\n",
      "Cucurbita (Gem) Squash\n",
      "Protein Bar, Chocolae Brownie\n",
      "Smart Cake\n",
      "Complete Biscuit & Baking Mix\n",
      "Beef Patties, Jalapeno & Pepper Jack\n",
      "Fries\n",
      "Texas Sheet Cake\n",
      "Mixed Lettuce - 3 cups\n",
      "Fine French Beans\n"
     ]
    }
   ],
   "source": [
    "num_nn = 20\n",
    "res = u.get_nns_by_item(item, num_nn+1) # will find the 100 nearest neighbors\n",
    "print(f'People who consume `{food_names[item]}` frequently, also consume:\\n')\n",
    "for i in res[1:]:\n",
    "    print(food_names[i])"
   ]
  },
  {
   "cell_type": "markdown",
   "metadata": {},
   "source": [
    "## UI elements"
   ]
  },
  {
   "cell_type": "code",
   "execution_count": 30,
   "metadata": {},
   "outputs": [
    {
     "data": {
      "application/vnd.jupyter.widget-view+json": {
       "model_id": "37b616677abf4f74b23481eba47bec5f",
       "version_major": 2,
       "version_minor": 0
      },
      "text/plain": [
       "Dropdown(options=(), value=None)"
      ]
     },
     "metadata": {},
     "output_type": "display_data"
    }
   ],
   "source": [
    "ipw.Dropdown(list=[(name,i) for i,name in enumerate(food_names)])"
   ]
  }
 ],
 "metadata": {
  "kernelspec": {
   "display_name": "Python 3",
   "language": "python",
   "name": "python3"
  },
  "language_info": {
   "codemirror_mode": {
    "name": "ipython",
    "version": 3
   },
   "file_extension": ".py",
   "mimetype": "text/x-python",
   "name": "python",
   "nbconvert_exporter": "python",
   "pygments_lexer": "ipython3",
   "version": "3.7.3"
  }
 },
 "nbformat": 4,
 "nbformat_minor": 2
}
