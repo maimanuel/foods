{
 "cells": [
  {
   "cell_type": "code",
   "execution_count": null,
   "metadata": {},
   "outputs": [],
   "source": [
    "import random\n",
    "import numpy as np\n",
    "import pandas as pd\n",
    "import matplotlib.pyplot as plt\n",
    "from annoy import AnnoyIndex\n",
    "import ipywidgets as ipw\n",
    "%matplotlib inline"
   ]
  },
  {
   "cell_type": "markdown",
   "metadata": {},
   "source": [
    "## Load Embeddings"
   ]
  },
  {
   "cell_type": "code",
   "execution_count": null,
   "metadata": {},
   "outputs": [],
   "source": [
    "food_embds = np.load('data/food_embds_50d.npy')\n",
    "food_names = [x[:-5] for x in np.load('data/food_names_50d.npy',allow_pickle=True)]\n",
    "print('Embedding dimensions', food_embds.shape)\n",
    "print('Number of food names',len(food_names)+1)"
   ]
  },
  {
   "cell_type": "markdown",
   "metadata": {},
   "source": [
    "## Set up Annoy Index for food embeddings"
   ]
  },
  {
   "cell_type": "code",
   "execution_count": null,
   "metadata": {},
   "outputs": [],
   "source": [
    "dims = food_embds.shape[1]\n",
    "t = AnnoyIndex(dims,metric='angular')  # Length of item vector that will be indexed\n",
    "for i,row in enumerate(food_embds):\n",
    "    t.add_item(i, row)\n",
    "t.build(10) # 10 trees\n",
    "t.save('data/foods_50d.ann')"
   ]
  },
  {
   "cell_type": "code",
   "execution_count": null,
   "metadata": {},
   "outputs": [],
   "source": [
    "# Load NN index"
   ]
  },
  {
   "cell_type": "code",
   "execution_count": null,
   "metadata": {},
   "outputs": [],
   "source": [
    "dims = food_embds.shape[1]\n",
    "u = AnnoyIndex(dims, 'angular')\n",
    "u.load('data/foods_50d.ann') # super fast, will just mmap the file"
   ]
  },
  {
   "cell_type": "markdown",
   "metadata": {},
   "source": [
    "# Try out similarity search\n",
    "The list `food_names` contains all foods that are contained in the nearest neighbor index."
   ]
  },
  {
   "cell_type": "code",
   "execution_count": null,
   "metadata": {},
   "outputs": [],
   "source": [
    "item = 100\n",
    "food_names[item]"
   ]
  },
  {
   "cell_type": "markdown",
   "metadata": {},
   "source": [
    "## Pick item between 0 and 36072"
   ]
  },
  {
   "cell_type": "code",
   "execution_count": null,
   "metadata": {},
   "outputs": [],
   "source": [
    "### CHANGE ITEM BELOW ###\n",
    "# The closer to zero the more popular/generic the item #\n",
    "item = 200\n",
    "###########################\n",
    "\n",
    "num_nn = 20\n",
    "res = u.get_nns_by_item(item, num_nn+1) # will find the 100 nearest neighbors\n",
    "print(f'People who consume `{food_names[item]}` frequently, also consume:\\n')\n",
    "for i in res[1:]:\n",
    "    print(food_names[i])"
   ]
  },
  {
   "cell_type": "code",
   "execution_count": null,
   "metadata": {},
   "outputs": [],
   "source": []
  }
 ],
 "metadata": {
  "kernelspec": {
   "display_name": "Python 3",
   "language": "python",
   "name": "python3"
  },
  "language_info": {
   "codemirror_mode": {
    "name": "ipython",
    "version": 3
   },
   "file_extension": ".py",
   "mimetype": "text/x-python",
   "name": "python",
   "nbconvert_exporter": "python",
   "pygments_lexer": "ipython3",
   "version": "3.7.3"
  }
 },
 "nbformat": 4,
 "nbformat_minor": 2
}
